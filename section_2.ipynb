{
 "cells": [
  {
   "cell_type": "code",
   "execution_count": 5,
   "metadata": {},
   "outputs": [],
   "source": [
    "import numpy as np\n",
    "import random\n",
    "from random import choice\n",
    "import math\n",
    "from enum import Enum\n",
    "import copy"
   ]
  },
  {
   "cell_type": "code",
   "execution_count": 6,
   "metadata": {},
   "outputs": [],
   "source": [
    "P_FLAT = 0.25\n",
    "P_HILL = 0.25 + P_FLAT\n",
    "P_FOREST = 0.25 + P_HILL\n",
    "P_CAVE = 0.25 + P_FOREST"
   ]
  },
  {
   "cell_type": "code",
   "execution_count": 7,
   "metadata": {},
   "outputs": [],
   "source": [
    "FN_FLAT = 0.1\n",
    "FN_HILL = 0.3\n",
    "FN_FOREST = 0.7\n",
    "FN_CAVE = 0.9\n",
    "probability_dict = {\"flat\": 0.1, \"hill\":0.3, \"forest\":0.7, \"cave\":0.9}"
   ]
  },
  {
   "cell_type": "code",
   "execution_count": 8,
   "metadata": {},
   "outputs": [],
   "source": [
    "class Rule(Enum):\n",
    "    rule_1 = 1\n",
    "    rule_2 = 2"
   ]
  },
  {
   "cell_type": "code",
   "execution_count": 9,
   "metadata": {},
   "outputs": [],
   "source": [
    "def manhattan(x, y, a, b):\n",
    "    return abs(x-a) + abs(y-b)"
   ]
  },
  {
   "cell_type": "code",
   "execution_count": 10,
   "metadata": {},
   "outputs": [],
   "source": [
    "def buildmap(dim):\n",
    "    terrainMap = np.random.random((dim, dim))\n",
    "    flat = terrainMap < P_FLAT\n",
    "    hill = terrainMap < P_HILL\n",
    "    forest = terrainMap < P_FOREST\n",
    "    cave = terrainMap < P_CAVE\n",
    "    \n",
    "    terrainMap[cave] = FN_CAVE\n",
    "    terrainMap[forest] = FN_FOREST\n",
    "    terrainMap[hill] = FN_HILL\n",
    "    terrainMap[flat] = FN_FLAT\n",
    "    \n",
    "    return terrainMap"
   ]
  },
  {
   "cell_type": "code",
   "execution_count": 19,
   "metadata": {},
   "outputs": [],
   "source": [
    "class target(object):\n",
    "    def __init__(self, dim, terrainMap):\n",
    "        self.x =random.randint(0, dim-1)\n",
    "        self.y = random.randint(0, dim-1)\n",
    "        self.prev = 0\n",
    "        self.current = terrainMap[self.x][self.y]\n",
    "    \n",
    "    def move(self, dim, terrainMap):\n",
    "        tmp_x, tmp_y = choice([(1,0),(-1,0),(0,1),(0,-1)])\n",
    "        \n",
    "        tmp_x += self.x\n",
    "        tmp_y += self.y\n",
    "        \n",
    "        if tmp_x<0 or tmp_x>dim-1 or tmp_y<0 or tmp_y>dim-1:\n",
    "            return self.move(dim, terrainMap)\n",
    "        self.prev = terrainMap[self.x][self.y]\n",
    "        \n",
    "        self.x = tmp_x\n",
    "        self.y = tmp_y\n",
    "        \n",
    "        self.current = terrainMap[self.x][self.y]\n",
    "        report = set()\n",
    "        report.add(self.prev)\n",
    "        report.add(self.current)\n",
    "        return report\n",
    "    \n",
    "    def getPosition(self):\n",
    "        return (self.x, self.y)"
   ]
  },
  {
   "cell_type": "code",
   "execution_count": 27,
   "metadata": {},
   "outputs": [],
   "source": [
    "def array_to_dict(type_FN, terrainMap):\n",
    "    tmp= np.where(terrainMap == type_FN)\n",
    "    tmp_dict = {}\n",
    "    for i in range(len(tmp[0])):\n",
    "        tmp_dict[(tmp[0][i], tmp[1][i])] = 1\n",
    "    return tmp_dict"
   ]
  },
  {
   "cell_type": "code",
   "execution_count": 30,
   "metadata": {},
   "outputs": [
    {
     "name": "stdout",
     "output_type": "stream",
     "text": [
      "{(0, 2): 1, (0, 7): 1, (1, 1): 1, (1, 2): 1, (1, 3): 1, (1, 5): 1, (1, 6): 1, (1, 7): 1, (2, 7): 1, (3, 0): 1, (3, 2): 1, (3, 6): 1, (4, 9): 1, (5, 3): 1, (5, 6): 1, (5, 9): 1, (6, 2): 1, (6, 3): 1, (6, 4): 1, (6, 7): 1, (7, 8): 1, (8, 2): 1, (8, 5): 1, (8, 6): 1, (9, 0): 1, (9, 7): 1}\n"
     ]
    }
   ],
   "source": [
    "test_map = buildmap(10)\n",
    "dict_test = {}\n",
    "dict_test[FN_FLAT] = array_to_dict(FN_FLAT, test_map)\n",
    "dict_test[FN_HILL] = array_to_dict(FN_HILL, test_map)\n",
    "print(dict_test[FN_FLAT])"
   ]
  },
  {
   "cell_type": "code",
   "execution_count": 31,
   "metadata": {},
   "outputs": [],
   "source": [
    "def get_junction(cell, type_cands, type_cells):\n",
    "    x, y = cell\n",
    "    neighbor_cand = [(1,0),(-1,0),(0,1),(0,-1)]\n",
    "    for step in neighbor_cand:\n",
    "        i, j = step\n",
    "        if (x+i, y+j) in type_cands:\n",
    "            type_cells[(x+i, y+j)] = 1"
   ]
  },
  {
   "cell_type": "code",
   "execution_count": 32,
   "metadata": {},
   "outputs": [
    {
     "name": "stdout",
     "output_type": "stream",
     "text": [
      "{(1, 2): 1}\n"
     ]
    }
   ],
   "source": [
    "cell = (1,1)\n",
    "type_cells = {}\n",
    "get_junction(cell, dict_test[FN_FLAT], type_cells)\n",
    "print(type_cells)"
   ]
  },
  {
   "cell_type": "code",
   "execution_count": null,
   "metadata": {},
   "outputs": [],
   "source": [
    "def initial_filter(type_1, type_2, terrainMap, types_dict, prob_terrain):\n",
    "    if type_1 == type_2:\n",
    "        types_dict[type_1] = array_to_dict(type_1, terrainMap)\n",
    "        type_cells = {}\n",
    "        for cell in types_dict[type_1]:\n",
    "            get_junction(cell, types_dict[type_1], type_cells)\n",
    "        types_dict[type_1] = type_cells\n",
    "        prob = 1/sum(types_dict[type_1].value())\n",
    "        for cell in types_dict[type_1]:\n",
    "            prob_terrain[cell] = prob"
   ]
  },
  {
   "cell_type": "code",
   "execution_count": null,
   "metadata": {},
   "outputs": [],
   "source": []
  },
  {
   "cell_type": "code",
   "execution_count": null,
   "metadata": {},
   "outputs": [],
   "source": [
    "def filter_terrain(prev_type, next_type, types_dict, prob_terrain):\n",
    "    "
   ]
  },
  {
   "cell_type": "code",
   "execution_count": null,
   "metadata": {},
   "outputs": [],
   "source": [
    "class Agent_memory(object):\n",
    "    def __init__(self, rule = Rule.rule_2):\n",
    "        self.prob_terrain = {}\n",
    "        self.types_dict = {}\n",
    "        self.prev_types = set()\n",
    "    def update_memory(self)"
   ]
  },
  {
   "cell_type": "code",
   "execution_count": null,
   "metadata": {},
   "outputs": [],
   "source": [
    "class Agent(object):\n",
    "    def __init__(self, rule = Rule.rule_2):\n",
    "        self.reduced_terrain = {}\n",
    "        self.types_dict = {}\n",
    "        self.prev_types = set()\n",
    "        \n",
    "        self.x = random.randint(0, dim-1)\n",
    "        self.y = random.randint(0, dim-1)\n",
    "        self.rule = rule\n",
    "        self.cost = 0\n",
    "    \n",
    "    def search_cell(self, x, y, target):\n",
    "        targetx, targety = target\n",
    "        p = random.random()\n",
    "        tp = self.terrain[x][y]\n",
    "        self.cost +=1\n",
    "        self.x = x, self.y = y\n",
    "        if self.x==targetx and self.y ==targety:\n",
    "            if p > tp:\n",
    "                print(\"Catch you!!\")\n",
    "                return True\n",
    "            else:\n",
    "                return False\n",
    "            \n",
    "    def rule(self, terrainMap = []):\n",
    "        if self.rule == Rule.rule_1: return self.rule1_dist()\n",
    "        else: return self.rule2_dist(terrainMap)\n",
    "    \n",
    "    def rule1_dist(self):\n",
    "        max_prio = 0\n",
    "        x =0, y=0\n",
    "        for pair in self.reduced_terrain:\n",
    "            i, j =pair\n",
    "            if self.reduced_terrain[pair]/manhattan(i, j, self.x, self.y) > max_prio:\n",
    "                max_prio = self.reduced_terrain[pair]/manhattan(i, j, self.x, self.y) \n",
    "                x = i, y = j\n",
    "        self.cost += manhattan(x, y, self.x, self.y)\n",
    "        return x, y\n",
    "    \n",
    "    def rule2_dist(self, terrainMap):\n",
    "        max_prio = 0\n",
    "        x = 0, y= 0\n",
    "        \n",
    "        if not terrainMap: return x, y\n",
    "        \n",
    "        for pair in self.reduced_terrain:\n",
    "            i, j = pair\n",
    "            p = self.reduced_terrain[pair]\n",
    "            tmp = (1 - terrainMap[i][j]) * p/manhattan(i, j, self.x, self.y)\n",
    "            if tmp > max_prio:\n",
    "                max_prio = tmp\n",
    "                x = i, y = j\n",
    "        self.cost += manhattan(x, y, self.x, self.y)\n",
    "        return x, y\n",
    "    \n",
    "    def analysis_report(self, report, terrainMap):\n",
    "        if not self.prev_types:\n",
    "            prev_types = copy.deepcopy(report)\n",
    "            if len(report) ==1:\n",
    "                type_FN = report.pop()\n",
    "                self.types_dict[type_FN] = array_to_dict(type_FN, terrainMap)\n",
    "                self.terrain_filter_one(type_FN, type_FN)\n",
    "                return self.rule()\n",
    "            else:\n",
    "                type_FN_1 = report.pop(), type_FN_2 = report.pop()\n",
    "                self.array_to_dict(type_FN_1)\n",
    "                self.array_to_dict(type_FN_2)\n",
    "                self.terrain_filter_two(type_FN_1, type_FN_2)\n",
    "                return self.rule()\n",
    "        \n",
    "        if report == self.prev_types:\n",
    "            return self.rule()\n",
    "        \n",
    "        if len(report) == 1:\n",
    "            remove_terrain = (prev_types - report).pop()\n",
    "            self.types_dict.pop(remove_terrain)\n",
    "            prev_types = report\n",
    "            type_FN = report.pop()\n",
    "            self.terrain_filter_one(type_FN, type_FN)\n",
    "            return self.rule()\n",
    "        \n",
    "        if len(report) == 2:\n",
    "            remove_terrain = (prev_types - report).pop()\n",
    "            self.types_dict.pop(remove_terrain)\n",
    "            type_FN = (report - prev_types).pop()\n",
    "            type_prev_FN = (report & prev_types).pop()\n",
    "            self.terrain_filter_one(type_prev_FN, type_FN)\n",
    "            return self.rule()\n",
    "            \n",
    "    \n",
    "    def update_state(self, x, y, terrainMap):\n",
    "        falseNeg = terrainMap[x][y]\n",
    "        \n",
    "                "
   ]
  },
  {
   "cell_type": "code",
   "execution_count": null,
   "metadata": {},
   "outputs": [],
   "source": []
  }
 ],
 "metadata": {
  "kernelspec": {
   "display_name": "Python 3",
   "language": "python",
   "name": "python3"
  },
  "language_info": {
   "codemirror_mode": {
    "name": "ipython",
    "version": 3
   },
   "file_extension": ".py",
   "mimetype": "text/x-python",
   "name": "python",
   "nbconvert_exporter": "python",
   "pygments_lexer": "ipython3",
   "version": "3.6.5"
  }
 },
 "nbformat": 4,
 "nbformat_minor": 2
}
